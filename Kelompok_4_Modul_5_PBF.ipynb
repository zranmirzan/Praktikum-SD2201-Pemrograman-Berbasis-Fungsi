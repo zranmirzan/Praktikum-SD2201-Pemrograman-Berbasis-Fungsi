{
  "nbformat": 4,
  "nbformat_minor": 0,
  "metadata": {
    "colab": {
      "provenance": []
    },
    "kernelspec": {
      "name": "python3",
      "display_name": "Python 3"
    },
    "language_info": {
      "name": "python"
    }
  },
  "cells": [
    {
      "cell_type": "code",
      "source": [
        "def track_transactions(func):\n",
        "    transactions = []\n",
        "\n",
        "    def wrapper(stock, action, quantity, price):\n",
        "        transactions.append({\n",
        "            'stock': stock,\n",
        "            'action': action,\n",
        "            'quantity': quantity,\n",
        "            'price': price\n",
        "        })\n",
        "        print(f\"Transaksi: {action} {quantity} saham {stock} dengan harga {price}. Total transaksi: {len(transactions)}\")\n",
        "        return func(stock, action, quantity, price)\n",
        "\n",
        "    return wrapper\n",
        "\n",
        "@track_transactions\n",
        "def execute_transaction(stock, action, quantity, price):\n",
        "\n",
        "    print(f\"Mengeksekusi transaksi: {action} {quantity} saham {stock} dengan harga {price}\")\n",
        "\n",
        "execute_transaction(\"BBRI\", \"Beli\", 100, 5000)\n",
        "execute_transaction(\"BBCA\", \"Jual\", 50, 7000)\n",
        "execute_transaction(\"BBNI\", \"Beli\", 200, 3000)\n",
        "execute_transaction(\"BRIS\", \"Jual\", 150, 6000)"
      ],
      "metadata": {
        "colab": {
          "base_uri": "https://localhost:8080/"
        },
        "id": "0asok8E67F4f",
        "outputId": "2399728e-3d86-4963-d44f-95f2cd7aed30"
      },
      "execution_count": 10,
      "outputs": [
        {
          "output_type": "stream",
          "name": "stdout",
          "text": [
            "Transaksi: Beli 100 saham BBRI dengan harga 5000. Total transaksi: 1\n",
            "Mengeksekusi transaksi: Beli 100 saham BBRI dengan harga 5000\n",
            "Transaksi: Jual 50 saham BBCA dengan harga 7000. Total transaksi: 2\n",
            "Mengeksekusi transaksi: Jual 50 saham BBCA dengan harga 7000\n",
            "Transaksi: Beli 200 saham BBNI dengan harga 3000. Total transaksi: 3\n",
            "Mengeksekusi transaksi: Beli 200 saham BBNI dengan harga 3000\n",
            "Transaksi: Jual 150 saham BRIS dengan harga 6000. Total transaksi: 4\n",
            "Mengeksekusi transaksi: Jual 150 saham BRIS dengan harga 6000\n"
          ]
        }
      ]
    }
  ]
}